{
 "cells": [
  {
   "cell_type": "markdown",
   "metadata": {},
   "source": [
    "TP module nº7 (2018-2019)\n",
    "Coordonnées, configurations et programmation en Python\n",
    "Préambule:  distance, milieu et coordonnées\n",
    "Complète avec les formules vues en cours : Dans un repère : A(xA;yA) et B(xB;yB). \n",
    "1) Le milieu I du segment [AB] a pour coordonnées : xI = ........................ et yI = .........................\n",
    "2) Si le repère est orthonormé, AB = .............................................................................."
   ]
  },
  {
   "cell_type": "markdown",
   "metadata": {},
   "source": [
    "Partie A : Programme à compléter :\n",
    "Contexte : Il était une fois, dans un repère orthonormé, un triangle défini par ses coordonnées qui cherchait un programme pour se connaitre lui meme. \n",
    "Exercice : Le programme ci-dessous est composé de deux parties. La première qui défini la fonction triangle et la deuxième qui applique cette fonction triangleI \n",
    "1) Complète les pointillés de la première partie du programme.\n",
    "2) Exécute la fonction triangleI (voir deuxième partie) pour les triangle suivant et note le message affiché :\n",
    "a) A(2 ; 4), B(3 ; 2), C(1 ; 1)). message affiché : ........................................................................\n",
    "b) A(2 ; 3), B(3 ; 2), C(1 ; 1). message affiché :........................................................................\n",
    "c) A(1 ; 1), B(3 ; 2), C(2 ; 3). message affiché : ........................................................................\n",
    "3) Que fait ce programme? ................................................................................................."
   ]
  },
  {
   "cell_type": "code",
   "execution_count": null,
   "metadata": {},
   "outputs": [],
   "source": [
    "from math import sqrt #cette ligne permet ensuite d'utiliser la fonction racine carrée\n",
    "#Première partie : définition de la fonction triangle qui permet de vérifier qu'un triangle ABC est ......................\n",
    "def triangleI(xA,yA,xB,yB,xC,yC) :   \n",
    "\ta=sqrt ((xC-xB)**2+(yC-yB)**2)\n",
    "\tb=sqrt ((xC-xA)**2+(yC-yA)**2)\n",
    "\tif a==b :\n",
    "\t\tMess=\"Le triangle ABC est ………………………………………………………………………………………………………………………………………………………………………………………………………………\"\n",
    "\telse :\n",
    "\t\tMess=\"Le triangle ABC n’est pas ………………………………………………………………………………………………………………………………………………………………………………………………\"\n",
    "\tprint (Mess)\n",
    "#Deuxième partie : exécution de la fonction triangle pour un triangle ABC remplace les 0 par les valeurs de xA, yA, xB, yB, xC, yC)\n",
    "A=triangleI (0,0,0,0,0,0)"
   ]
  },
  {
   "cell_type": "markdown",
   "metadata": {},
   "source": [
    "Partie B : Distance et Autres configurations :\n",
    "exercice 1: \n",
    "1) Écrire ci-dessous un programme permettant de calculer la distance entre deux points. (creer et utiliser la fonction distance(xA,yA,xB,yB))."
   ]
  },
  {
   "cell_type": "code",
   "execution_count": null,
   "metadata": {},
   "outputs": [],
   "source": [
    "from math import sqrt #cette ligne permet ensuite d'utiliser la fonction racine carrée\n",
    "#Première partie : définition de la fonction distance qui permet de vérifier \n",
    "def distance(xA,yA,xB,yB) : \n",
    "\n",
    "\n",
    "\n",
    "\n",
    "\n",
    "#Deuxième partie : exécution de la fonction distance AB \n"
   ]
  },
  {
   "cell_type": "markdown",
   "metadata": {},
   "source": [
    "2) le programme donne-t-il la valeur exacte de la distance? Sinon que permet-il de calculer?\n",
    "………………………………………………………………………………………………………………………………………………………………………………………………………..……\n",
    "………………………………………………………………………………………………………………………………………………………………………………………………………..……\n",
    "\n",
    "………………………………………………………………………………………………………………………………………………………………………………………………………..……\n",
    "\n",
    "3)En conséquence, peut-on dire que le programme de la Partie A permet de démontrer réellement la nature du triangle, ou s’agit-il d’une conjecture très précise?\n",
    "\n",
    "………………………………………………………………………………………………………………………………………………………………………………………………………..……\n",
    "\n",
    "………………………………………………………………………………………………………………………………………………………………………………………………………..……\n",
    "\n",
    "………………………………………………………………………………………………………………………………………………………………………………………………………..……\n",
    "\n"
   ]
  },
  {
   "cell_type": "markdown",
   "metadata": {},
   "source": [
    "Exercice 2 : Écrire un programme permettant de vérifier qu'un triangle ABC est rectangle en A. (creer et utiliser la fonction triangleR(xA,yA,xB,yB,xC,yC))."
   ]
  },
  {
   "cell_type": "code",
   "execution_count": null,
   "metadata": {},
   "outputs": [],
   "source": []
  },
  {
   "cell_type": "markdown",
   "metadata": {},
   "source": [
    "Exercice 3 : Écrire un programme permettant de vérifier qu'un quadrilatère ABCD est un parallélogramme. (creer et utiliser la fonction QuadrilatèreP(xA,yA,xB,yB,xC,yC,xD,yD))."
   ]
  },
  {
   "cell_type": "code",
   "execution_count": null,
   "metadata": {},
   "outputs": [],
   "source": []
  },
  {
   "cell_type": "markdown",
   "metadata": {},
   "source": [
    "Exercice 4 : Écrire un programme permettant de vérifier qu'un quadrilatère ABCD est un rectangle. (creer et utiliser la fonction QuadrilatèreR(xA,yA,xB,yB,xC,yC,xD,yD))."
   ]
  },
  {
   "cell_type": "code",
   "execution_count": null,
   "metadata": {},
   "outputs": [],
   "source": []
  },
  {
   "cell_type": "markdown",
   "metadata": {},
   "source": [
    "Exercice 5 : Écrire un programme permettant de vérifier qu'un quadrilatère ABCD est un losange. (creer et utiliser la fonction QuadrilatèreL(xA,yA,xB,yB,xC,yC,xD,yD))."
   ]
  },
  {
   "cell_type": "code",
   "execution_count": null,
   "metadata": {},
   "outputs": [],
   "source": [
    "\n"
   ]
  }
 ],
 "metadata": {
  "kernelspec": {
   "display_name": "Python 3",
   "language": "python",
   "name": "python3"
  },
  "language_info": {
   "codemirror_mode": {
    "name": "ipython",
    "version": 3
   },
   "file_extension": ".py",
   "mimetype": "text/x-python",
   "name": "python",
   "nbconvert_exporter": "python",
   "pygments_lexer": "ipython3",
   "version": "3.7.0"
  }
 },
 "nbformat": 4,
 "nbformat_minor": 2
}
