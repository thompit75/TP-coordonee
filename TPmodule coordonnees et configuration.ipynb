{
 "cells": [
  {
   "cell_type": "markdown",
   "metadata": {},
   "source": [
    "2018 2019\n",
    "TP module nº7\n",
    "Préambule: Cours formules distance et milieu ….\n",
    "Partie A : \n",
    "Il était une fois, dans un repère orthonormé, un triangle défini par ses coordonnées qui cherchait un programme pour se connaitre lui meme..\n",
    "\n",
    "def triangle(xA,yA,xB,yB,xC,yC) :\n",
    "\ta=(xC-xB)**2+(yC-yB)**2\n",
    "\tb=(xC-xA)**2+(yC-yA)**2\n",
    "\tc=(xB-xA)**2+(yB-yA)**2\n",
    "\tif a==b+c or b==a+c or c==a+b\n",
    "\t\tMess=”------------est rectangle-------”\n",
    "\telse :\n",
    "\t\tMess=”--------------n’est pas------------”\n",
    "\tprint (Mess)\n",
    " ------------------------------------------------------------------------------------------------------------------------\n",
    "\n",
    "from math import sqrt\n",
    "def triangle(xA,yA,xB,yB,xC,yC) :\n",
    "\ta= sqrt ((xC-xB)**2+(yC-yB)**2)\n",
    "\tb= sqrt ((xC-xA)**2+(yC-yA)**2)\n",
    "\tif a==b\n",
    "\t\tMess=”Le triangle ABC est ……………….……………………...”\n",
    "\telse :\n",
    "\t\tMess=”Le triangle ABC n’est pas ……………………………………..”\n",
    "\tprint (Mess)\n",
    "\n",
    "\n",
    "tester des exemples...\n",
    "\n",
    "prgm : triangle rectangle , puis équilateral avec des exemples…\n",
    "\n",
    "markdown : taper texte, \n",
    "code , commentaire #"
   ]
  },
  {
   "cell_type": "code",
   "execution_count": 6,
   "metadata": {},
   "outputs": [],
   "source": [
    "from math import sqrt\n",
    "def triangle(xA,yA,xB,yB,xC,yC) :\n",
    "\ta=sqrt ((xC-xB)**2+(yC-yB)**2)\n",
    "\tb=sqrt ((xC-xA)**2+(yC-yA)**2)\n",
    "\tif a==b :\n",
    "\t\tMess=\"Le triangle ABC est ……………….……………………...\"\n",
    "\telse :\n",
    "\t\tMess=\"Le triangle ABC n’est pas ……………………………………..\"\n",
    "\tprint (Mess)"
   ]
  },
  {
   "cell_type": "code",
   "execution_count": 7,
   "metadata": {},
   "outputs": [
    {
     "name": "stdout",
     "output_type": "stream",
     "text": [
      "Le triangle ABC n’est pas ……………………………………..\n"
     ]
    }
   ],
   "source": [
    "A=triangle (1,1,2,2,3,4)"
   ]
  },
  {
   "cell_type": "raw",
   "metadata": {},
   "source": []
  },
  {
   "cell_type": "code",
   "execution_count": null,
   "metadata": {},
   "outputs": [],
   "source": [
    "def triangle(xA,yA,xB,yB,xC,yC) :\n",
    "\ta=(xC-xB)**2+(yC-yB)**2\n",
    "\tb=(xC-xA)**2+(yC-yA)**2\n",
    "\tc=(xB-xA)**2+(yB-yA)**2\n",
    "\tif a==b+c or b==a+c or c==a+b\n",
    "\t\tMess=”------------est rectangle-------”\n",
    "\telse :\n",
    "\t\tMess=”--------------n’est pas------------”\n",
    "\tprint (Mess)"
   ]
  }
 ],
 "metadata": {
  "kernelspec": {
   "display_name": "Python 3",
   "language": "python",
   "name": "python3"
  },
  "language_info": {
   "codemirror_mode": {
    "name": "ipython",
    "version": 3
   },
   "file_extension": ".py",
   "mimetype": "text/x-python",
   "name": "python",
   "nbconvert_exporter": "python",
   "pygments_lexer": "ipython3",
   "version": "3.7.0"
  }
 },
 "nbformat": 4,
 "nbformat_minor": 2
}
